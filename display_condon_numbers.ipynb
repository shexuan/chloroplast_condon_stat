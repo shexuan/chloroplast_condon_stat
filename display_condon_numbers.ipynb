{
 "cells": [
  {
   "cell_type": "code",
   "execution_count": 2,
   "metadata": {
    "ExecuteTime": {
     "end_time": "2019-06-23T14:59:08.188864Z",
     "start_time": "2019-06-23T14:59:01.378656Z"
    }
   },
   "outputs": [
    {
     "data": {
      "text/plain": [
       "''"
      ]
     },
     "execution_count": 2,
     "metadata": {},
     "output_type": "execute_result"
    }
   ],
   "source": [
    "import os \n",
    "import pandas as pd\n",
    "import numpy as np \n",
    "import matplotlib.pyplot as plt\n",
    "from collections import defaultdict\n",
    "plt.style.use('ggplot')\n",
    "data_dir = ''\n",
    "os.chdir(data_dir)\n",
    "os.getcwd()"
   ]
  },
  {
   "cell_type": "code",
   "execution_count": 3,
   "metadata": {
    "ExecuteTime": {
     "end_time": "2019-06-23T14:59:08.226840Z",
     "start_time": "2019-06-23T14:59:08.191859Z"
    }
   },
   "outputs": [],
   "source": [
    "def reshape_data(df, sheet, idx_col=None):\n",
    "    '''一行四个氨基酸转换为一行表示一个氨基酸\n",
    "    '''\n",
    "    sdf = df.parse(sheet, header=None, index_col=idx_col)\n",
    "    sdf = sdf.fillna(method='ffill')\n",
    "    try:\n",
    "        sdf.index = [idx.strip() for idx in list(sdf.index)]\n",
    "    except:\n",
    "        pass\n",
    "    colnames = ['aa', 'codon', 'num', 'rscu']\n",
    "    new_df = pd.DataFrame()\n",
    "    for c in range(0, 16, 4):\n",
    "        t_col = sdf.iloc[:, c:c + 4]\n",
    "        t_col.columns = colnames\n",
    "        new_df = new_df.append(t_col)\n",
    "    new_df_rscu_mean = new_df.groupby(['aa', 'codon']).sum()\n",
    "    return new_df_rscu_mean"
   ]
  },
  {
   "cell_type": "code",
   "execution_count": 4,
   "metadata": {
    "ExecuteTime": {
     "end_time": "2019-06-23T14:59:08.842484Z",
     "start_time": "2019-06-23T14:59:08.232837Z"
    },
    "scrolled": true
   },
   "outputs": [
    {
     "data": {
      "text/html": [
       "<div>\n",
       "<style>\n",
       "    .dataframe thead tr:only-child th {\n",
       "        text-align: right;\n",
       "    }\n",
       "\n",
       "    .dataframe thead th {\n",
       "        text-align: left;\n",
       "    }\n",
       "\n",
       "    .dataframe tbody tr th {\n",
       "        vertical-align: top;\n",
       "    }\n",
       "</style>\n",
       "<table border=\"1\" class=\"dataframe\">\n",
       "  <thead>\n",
       "    <tr style=\"text-align: right;\">\n",
       "      <th></th>\n",
       "      <th>aa</th>\n",
       "      <th>codon</th>\n",
       "      <th>num</th>\n",
       "      <th>rscu</th>\n",
       "    </tr>\n",
       "  </thead>\n",
       "  <tbody>\n",
       "    <tr>\n",
       "      <th>0</th>\n",
       "      <td>Ala</td>\n",
       "      <td>GCA</td>\n",
       "      <td>195</td>\n",
       "      <td>48.00</td>\n",
       "    </tr>\n",
       "    <tr>\n",
       "      <th>1</th>\n",
       "      <td>Ala</td>\n",
       "      <td>GCC</td>\n",
       "      <td>172</td>\n",
       "      <td>61.34</td>\n",
       "    </tr>\n",
       "    <tr>\n",
       "      <th>2</th>\n",
       "      <td>Ala</td>\n",
       "      <td>GCG</td>\n",
       "      <td>118</td>\n",
       "      <td>51.04</td>\n",
       "    </tr>\n",
       "    <tr>\n",
       "      <th>3</th>\n",
       "      <td>Ala</td>\n",
       "      <td>GCU</td>\n",
       "      <td>271</td>\n",
       "      <td>63.58</td>\n",
       "    </tr>\n",
       "    <tr>\n",
       "      <th>4</th>\n",
       "      <td>Arg</td>\n",
       "      <td>AGA</td>\n",
       "      <td>344</td>\n",
       "      <td>92.67</td>\n",
       "    </tr>\n",
       "  </tbody>\n",
       "</table>\n",
       "</div>"
      ],
      "text/plain": [
       "    aa codon  num   rscu\n",
       "0  Ala   GCA  195  48.00\n",
       "1  Ala   GCC  172  61.34\n",
       "2  Ala   GCG  118  51.04\n",
       "3  Ala   GCU  271  63.58\n",
       "4  Arg   AGA  344  92.67"
      ]
     },
     "execution_count": 4,
     "metadata": {},
     "output_type": "execute_result"
    },
    {
     "name": "stdout",
     "output_type": "stream",
     "text": [
      "ok\n"
     ]
    }
   ],
   "source": [
    "def load_data(xls):\n",
    "    xls1 = pd.ExcelFile(xls)\n",
    "    d1 = reshape_data(xls1, 3)\n",
    "    d1 = d1.reset_index()\n",
    "    #d1 = d1.set_index('aa')\n",
    "    #df1 = d1.pivot(index='aa', columns='codon', values='num')\n",
    "    #df1 = df1.fillna(0).astype(float)\n",
    "    return d1\n",
    "d = load_data('2ts.rscu.xlsx')\n",
    "d.head()\n",
    "d.iloc[:,:3].to_csv('2ts.aa.stat.csv', index=False, header=False)\n",
    "print('ok')\n",
    "\n",
    "\n",
    "\n",
    "#d1 = load_data('1lt.rscu.xlsx')\n",
    "#d2 = load_data('2ts.rscu.xlsx')\n",
    "#d3 = load_data('3ms.rscu.xlsx')\n",
    "\n",
    "# d1.head()\n",
    "# cols = list(data['codon'])\n",
    "# plt.figure(dpi=200, figsize=(15, 10))\n",
    "# axes = d1.loc[:, cols].plot.bar(stacked=True,figsize=(15, 10), legend=False, width=0.1)\n",
    "# d2.loc[:, cols].plot.bar(stacked=True, legend=False, width=0.1,ax=axes)\n",
    "# plt.xticks(np.arange(0, 1, len(cols)))\n",
    "#d1 = d1.T\n",
    "#d1.head()\n",
    "#plt.bar([1],d1['Ala'],stacked=True)"
   ]
  },
  {
   "cell_type": "code",
   "execution_count": 5,
   "metadata": {
    "ExecuteTime": {
     "end_time": "2019-06-23T14:59:09.060377Z",
     "start_time": "2019-06-23T14:59:08.847479Z"
    },
    "collapsed": true
   },
   "outputs": [
    {
     "data": {
      "text/plain": [
       "defaultdict(dict,\n",
       "            {'Ala': {'GCA': '199', 'GCC': '172', 'GCG': '121', 'GCU': '271'},\n",
       "             'Arg': {'AGA': '351',\n",
       "              'AGG': '240',\n",
       "              'CGA': '169',\n",
       "              'CGC': '97',\n",
       "              'CGG': '94',\n",
       "              'CGU': '192'},\n",
       "             'Asn': {'AAC': '309', 'AAU': '630'},\n",
       "             'Asp': {'GAC': '134', 'GAU': '415'},\n",
       "             'Cys': {'UGC': '210', 'UGU': '219'},\n",
       "             'Gln': {'CAA': '440', 'CAG': '150'},\n",
       "             'Glu': {'GAA': '585', 'GAG': '228'},\n",
       "             'Gly': {'GGA': '382', 'GGC': '160', 'GGG': '246', 'GGU': '292'},\n",
       "             'His': {'CAC': '106', 'CAU': '370'},\n",
       "             'Ile': {'AUA': '518', 'AUC': '399', 'AUU': '635'},\n",
       "             'Leu': {'CUA': '171',\n",
       "              'CUC': '159',\n",
       "              'CUG': '135',\n",
       "              'CUU': '345',\n",
       "              'UUA': '341',\n",
       "              'UUG': '431'},\n",
       "             'Lys': {'AAA': '717', 'AAG': '356'},\n",
       "             'Met': {'AUG': '341'},\n",
       "             'Phe': {'UUC': '524', 'UUU': '646'},\n",
       "             'Pro': {'CCA': '310', 'CCC': '208', 'CCG': '97', 'CCU': '203'},\n",
       "             'Ser': {'AGC': '303',\n",
       "              'AGU': '322',\n",
       "              'UCA': '131',\n",
       "              'UCC': '397',\n",
       "              'UCG': '199',\n",
       "              'UCU': '362'},\n",
       "             'TER': {'UAA': '377', 'UAG': '177', 'UGA': '150'},\n",
       "             'Thr': {'ACA': '193', 'ACC': '302', 'ACG': '191', 'ACU': '334'},\n",
       "             'Trp': {'UGG': '258'},\n",
       "             'Tyr': {'UAC': '259', 'UAU': '518'},\n",
       "             'Val': {'GUA': '277', 'GUC': '133', 'GUG': '148', 'GUU': '309'}})"
      ]
     },
     "execution_count": 5,
     "metadata": {},
     "output_type": "execute_result"
    }
   ],
   "source": [
    "def cunt_aa(csv_file):\n",
    "    cunt = defaultdict(dict)\n",
    "    #print(csv_file)\n",
    "    with open(csv_file, 'r') as f:\n",
    "        flags = False\n",
    "        for line in f:\n",
    "            aa, codon, num = line.strip().split(',')\n",
    "            codon_num = {codon: num}\n",
    "            cunt[aa].update(codon_num)\n",
    "    return cunt\n",
    "\n",
    "\n",
    "cunt1 = cunt_aa('1lt.aa.stat.csv')\n",
    "cunt2 = cunt_aa('2ts.aa.stat.csv')\n",
    "cunt3 = cunt_aa('3ms.aa.stat.csv')\n",
    "cunt4 = cunt_aa('4mf.aa.stat.csv')\n",
    "cunt5 = cunt_aa('5mg.aa.stat.csv')\n",
    "cunts = [cunt1, cunt2, cunt3, cunt4, cunt5]\n",
    "cunt1\n",
    "# labels = sorted(cunt1.keys())\n",
    "# labels.remove('TER')\n",
    "# labels.append('TER')\n",
    "\n",
    "# xticks = np.arange(0, len(list(cunt1.keys())))\n",
    "# #labels = set()\n",
    "# font2 = {\n",
    "#     'family': 'Times New Roman',\n",
    "#     'weight': 'normal',\n",
    "#     'size': 20,\n",
    "# }\n",
    "# plt.figure(dpi=300, figsize=(20, 15))\n",
    "# wid = 0.08  #'orangered'\n",
    "# colors = dict([(0, 'salmon'), (1, 'plum'), (2, 'lightblue'), (3, 'wheat'),\n",
    "#                (4, 'pink'), (5, 'silver')])\n",
    "# for si, cunt in enumerate(cunts):\n",
    "#     x_mv = si * (wid + 0.02)\n",
    "#     #print(cunt)\n",
    "#     #for xi, (a, d) in enumerate(cunt.items()):\n",
    "#     for xi, a in enumerate(labels):\n",
    "#         bot = 0\n",
    "#         clor = 0\n",
    "#         #labels.add(a)\n",
    "#         for c, n in cunt[a].items():\n",
    "#             #print(c,n,x_mv)\n",
    "#             plt.bar(\n",
    "#                 xticks[xi] + x_mv,\n",
    "#                 float(n),\n",
    "#                 color=colors[clor],\n",
    "#                 width=wid,\n",
    "#                 bottom=bot)\n",
    "#             bot += int(n)\n",
    "#             clor += 1\n",
    "# #plt.xlabel('Amino acid', font2)\n",
    "# plt.ylabel('Codon numbers', font2)\n",
    "\n",
    "# xticks = [(x + 0.5 / 2) for x in xticks]\n",
    "# font2 = {\n",
    "#     'family': 'Times New Roman',\n",
    "#     'weight': 'light',\n",
    "#     'size': 15,\n",
    "# }\n",
    "# #plt.yticks(font2)\n",
    "# labels.remove('TER')\n",
    "# labels.append('Stop')\n",
    "# plt.xticks(xticks, labels, fontsize=15, fontstyle='normal', family='Times New Roman')\n",
    "# plt.yticks(fontsize=10, fontstyle='normal', family='Times New Roman')\n",
    "# plt.savefig('codon_nums.png')"
   ]
  }
 ],
 "metadata": {
  "hide_input": false,
  "kernelspec": {
   "display_name": "Python 3",
   "language": "python",
   "name": "python3"
  },
  "language_info": {
   "codemirror_mode": {
    "name": "ipython",
    "version": 3
   },
   "file_extension": ".py",
   "mimetype": "text/x-python",
   "name": "python",
   "nbconvert_exporter": "python",
   "pygments_lexer": "ipython3",
   "version": "3.6.3"
  }
 },
 "nbformat": 4,
 "nbformat_minor": 2
}
