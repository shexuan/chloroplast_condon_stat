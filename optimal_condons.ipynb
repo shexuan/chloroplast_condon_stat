{
 "cells": [
  {
   "cell_type": "code",
   "execution_count": 34,
   "metadata": {
    "ExecuteTime": {
     "end_time": "2019-06-23T16:08:12.677149Z",
     "start_time": "2019-06-23T16:08:12.664140Z"
    }
   },
   "outputs": [
    {
     "data": {
      "text/plain": [
       "''"
      ]
     },
     "execution_count": 34,
     "metadata": {},
     "output_type": "execute_result"
    }
   ],
   "source": [
    "import os \n",
    "import pandas as pd\n",
    "import numpy as np \n",
    "import matplotlib.pyplot as plt\n",
    "data_dir = ''\n",
    "os.chdir(data_dir)\n",
    "os.getcwd()"
   ]
  },
  {
   "cell_type": "code",
   "execution_count": 35,
   "metadata": {
    "ExecuteTime": {
     "end_time": "2019-06-23T16:08:12.898004Z",
     "start_time": "2019-06-23T16:08:12.682131Z"
    }
   },
   "outputs": [],
   "source": [
    "def reshape_data(df, sheet,idx_col=0):\n",
    "    '''一行四个氨基酸转换为一行表示一个氨基酸\n",
    "    '''\n",
    "    sdf = df.parse(sheet, header=None, index_col=idx_col)\n",
    "    sdf = sdf.fillna(method='ffill')\n",
    "    try:\n",
    "        sdf.index = [idx.strip() for idx in list(sdf.index)]\n",
    "    except:\n",
    "        pass\n",
    "    colnames = ['aa', 'codon', 'num', 'rscu']\n",
    "    new_df = pd.DataFrame()\n",
    "    for c in range(0, 16, 4):\n",
    "        t_col = sdf.iloc[:, c:c + 4]\n",
    "        t_col.columns = colnames\n",
    "        new_df = new_df.append(t_col)\n",
    "    new_df_rscu_mean = new_df.groupby(['aa', 'codon']).mean()\n",
    "    return new_df_rscu_mean\n",
    "\n",
    "\n",
    "def get_high_drscu(high, low):\n",
    "    if list(high.index) != list(low.index):\n",
    "        raise sysExit('error sb')\n",
    "    res = pd.concat([high, low], axis=1)\n",
    "    res['d_rscu'] = res['rscu_high'] - res['rscu_low']\n",
    "    res = res.sort_values(by=['d_rscu'], ascending=False)\n",
    "    res_high = res[res['d_rscu'] > 0.08]\n",
    "    print(res_high.head())\n",
    "    high_drscu_codons = [c[1] for c in list(res_high.index)]\n",
    "    return set(high_drscu_codons)\n",
    "\n",
    "def get_rscu1(tot_rscu):\n",
    "    stot = tot_rscu[tot_rscu['rscu']>1]\n",
    "    #print(stot.head)\n",
    "    tot_high_rscu_codons = [c[1] for c in list(stot.index)]\n",
    "    return set(tot_high_rscu_codons)\n",
    "\n",
    "def compare_rscu(high_drscu_codons, low_rscu_codons):\n",
    "    return high_drscu_codons & low_rscu_codons\n",
    "\n",
    "def get_opt_codons(sp_rscu):\n",
    "    df = pd.ExcelFile(sp_rscu)\n",
    "    high = reshape_data(df, 1)\n",
    "    high.columns = ['nums_high', 'rscu_high']\n",
    "    low = reshape_data(df, 2)\n",
    "    low.columns = ['nums_low','rscu_low']\n",
    "    tot = reshape_data(df, 3, idx_col=None)\n",
    "    high_rscu_codons = get_rscu1(tot)\n",
    "    high_drscu_codons = get_high_drscu(high, low)\n",
    "    opt_codons = compare_rscu(high_drscu_codons, high_rscu_codons)\n",
    "    return opt_codons"
   ]
  },
  {
   "cell_type": "code",
   "execution_count": 36,
   "metadata": {
    "ExecuteTime": {
     "end_time": "2019-06-23T16:08:14.670902Z",
     "start_time": "2019-06-23T16:08:12.901999Z"
    }
   },
   "outputs": [
    {
     "name": "stdout",
     "output_type": "stream",
     "text": [
      "           nums_high  rscu_high  nums_low  rscu_low  d_rscu\n",
      "aa  codon                                                  \n",
      "Leu CUA          2.6      0.800       0.2     0.032   0.768\n",
      "Ala GCA          1.4      1.066       0.6     0.306   0.760\n",
      "Val GUA          3.4      1.604       2.8     0.868   0.736\n",
      "Leu CUG          3.6      1.170       2.0     0.512   0.658\n",
      "Thr ACG          1.6      1.440       3.8     0.784   0.656\n",
      "1lt.rscu.xlsx {'CGU', 'GCC', 'AAA', 'GUU', 'GUA'}\n",
      "           nums_high  rscu_high  nums_low  rscu_low    d_rscu\n",
      "aa  codon                                                    \n",
      "Leu CUA          3.6      1.086  0.200000  0.032000  1.054000\n",
      "Val GUA          4.8      1.816  2.800000  0.860000  0.956000\n",
      "Leu CUG          4.2      1.352  1.666667  0.426667  0.925333\n",
      "Ala GCA          1.8      1.106  0.600000  0.306000  0.800000\n",
      "Gly GGG          3.6      1.294  2.200000  0.516000  0.778000\n",
      "2ts.rscu.xlsx {'CGU', 'GCC', 'AAA', 'GUU', 'GUA'}\n",
      "           nums_high  rscu_high  nums_low  rscu_low  d_rscu\n",
      "aa  codon                                                  \n",
      "Val GUA          4.8      1.828       2.4     0.326   1.502\n",
      "Leu CUA          3.6      1.086       0.2     0.032   1.054\n",
      "Gly GGG          3.8      1.314       2.0     0.356   0.958\n",
      "Gln CAG          2.4      1.018       1.6     0.214   0.804\n",
      "Ala GCA          1.8      1.106       0.6     0.306   0.800\n",
      "3ms.rscu.xlsx {'CGU', 'AGU', 'AAA', 'GUA'}\n",
      "           nums_high  rscu_high  nums_low  rscu_low  d_rscu\n",
      "aa  codon                                                  \n",
      "Val GUA          5.0      1.758       2.4     0.326   1.432\n",
      "Leu CUA          3.6      1.096       0.2     0.032   1.064\n",
      "Gln CAG          3.0      1.044       1.6     0.214   0.830\n",
      "Glu GAG          2.8      1.132       1.4     0.342   0.790\n",
      "Gly GGG          3.4      1.062       2.0     0.356   0.706\n",
      "4mf.rscu.xlsx {'CGU', 'AUU', 'UCU', 'AGU', 'AAA', 'GUA'}\n",
      "           nums_high  rscu_high  nums_low  rscu_low    d_rscu\n",
      "aa  codon                                                    \n",
      "Ala GCC          2.8      1.800  4.400000  0.850000  0.950000\n",
      "Ser UCA          1.8      0.834  0.200000  0.080000  0.754000\n",
      "Val GUA          2.6      1.598  2.800000  0.860000  0.738000\n",
      "Leu CUA          1.8      0.750  0.200000  0.032000  0.718000\n",
      "Thr ACG          1.6      1.438  4.166667  0.736667  0.701333\n",
      "5mg.rscu.xlsx {'UUU', 'CGU', 'UCU', 'GCC', 'AAA', 'GUU', 'AAU', 'GUA'}\n"
     ]
    }
   ],
   "source": [
    "sp_rscus = [\n",
    "    '1lt.rscu.xlsx', '2ts.rscu.xlsx', '3ms.rscu.xlsx', '4mf.rscu.xlsx',\n",
    "    '5mg.rscu.xlsx'\n",
    "]\n",
    "\n",
    "for sp_rscu in sp_rscus:\n",
    "    opt_codons = get_opt_codons(sp_rscu)\n",
    "    print(sp_rscu, opt_codons)\n",
    "    \n",
    "    "
   ]
  },
  {
   "cell_type": "code",
   "execution_count": null,
   "metadata": {},
   "outputs": [],
   "source": []
  },
  {
   "cell_type": "code",
   "execution_count": null,
   "metadata": {},
   "outputs": [],
   "source": []
  },
  {
   "cell_type": "code",
   "execution_count": null,
   "metadata": {},
   "outputs": [],
   "source": []
  },
  {
   "cell_type": "code",
   "execution_count": 37,
   "metadata": {
    "ExecuteTime": {
     "end_time": "2019-06-23T16:08:14.687893Z",
     "start_time": "2019-06-23T16:08:14.675900Z"
    },
    "scrolled": true
   },
   "outputs": [],
   "source": [
    "# rscu1 = '1lt.rscu.xlsx'\n",
    "# df1 = pd.ExcelFile(rscu1)\n",
    "# df1.sheet_names\n",
    "# tot = reshape_data(df1, 3, None)\n",
    "# tmp = tot.T\n",
    "# tot.reset_index(inplace=True)\n",
    "# tot.set_index(['aa'],inplace=True)\n",
    "# tot.head()\n",
    "# plt.figure(dpi=200,figsize=(15,10))\n",
    "# tot['num'].plot(kind='bar')"
   ]
  }
 ],
 "metadata": {
  "hide_input": false,
  "kernelspec": {
   "display_name": "Python 3",
   "language": "python",
   "name": "python3"
  },
  "language_info": {
   "codemirror_mode": {
    "name": "ipython",
    "version": 3
   },
   "file_extension": ".py",
   "mimetype": "text/x-python",
   "name": "python",
   "nbconvert_exporter": "python",
   "pygments_lexer": "ipython3",
   "version": "3.6.3"
  }
 },
 "nbformat": 4,
 "nbformat_minor": 2
}
